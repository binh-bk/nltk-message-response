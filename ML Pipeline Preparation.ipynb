{
 "cells": [
  {
   "cell_type": "markdown",
   "metadata": {},
   "source": [
    "# ML Pipeline Preparation\n",
    "Follow the instructions below to help you create your ML pipeline.\n",
    "### 1. Import libraries and load data from database.\n",
    "- Import Python libraries\n",
    "- Load dataset from database with [`read_sql_table`](https://pandas.pydata.org/pandas-docs/stable/generated/pandas.read_sql_table.html)\n",
    "- Define feature and target variables X and Y"
   ]
  },
  {
   "cell_type": "code",
   "execution_count": 3,
   "metadata": {
    "ExecuteTime": {
     "end_time": "2020-12-11T10:05:59.701917Z",
     "start_time": "2020-12-11T10:05:59.698309Z"
    }
   },
   "outputs": [],
   "source": [
    "# filter warning message\n",
    "import warnings\n",
    "warnings.filterwarnings('ignore')"
   ]
  },
  {
   "cell_type": "code",
   "execution_count": 4,
   "metadata": {
    "ExecuteTime": {
     "end_time": "2020-12-11T10:06:00.734051Z",
     "start_time": "2020-12-11T10:06:00.729626Z"
    }
   },
   "outputs": [],
   "source": [
    "# import libraries\n",
    "import time\n",
    "import pandas as pd\n",
    "from sqlalchemy import create_engine\n",
    "import numpy as np\n",
    "import matplotlib.pyplot as plt\n",
    "from matplotlib.ticker import MultipleLocator"
   ]
  },
  {
   "cell_type": "code",
   "execution_count": 5,
   "metadata": {
    "ExecuteTime": {
     "end_time": "2020-12-11T10:06:01.778585Z",
     "start_time": "2020-12-11T10:06:01.307561Z"
    }
   },
   "outputs": [
    {
     "data": {
      "text/plain": [
       "0"
      ]
     },
     "execution_count": 5,
     "metadata": {},
     "output_type": "execute_result"
    }
   ],
   "source": [
    "# load data from database\n",
    "engine = create_engine('sqlite:///data/data.sqlite')\n",
    "df = pd.read_sql(\"SELECT * FROM message_response\", con=engine)\n",
    "df.isnull().any().sum()"
   ]
  },
  {
   "cell_type": "code",
   "execution_count": 6,
   "metadata": {
    "ExecuteTime": {
     "end_time": "2020-12-11T10:06:02.376108Z",
     "start_time": "2020-12-11T10:06:02.335901Z"
    }
   },
   "outputs": [],
   "source": [
    "# convert category column data type from int64 to int8\n",
    "for column in df.columns[2:]:\n",
    "    df[column] = df[column].astype('int8')"
   ]
  },
  {
   "cell_type": "code",
   "execution_count": 7,
   "metadata": {
    "ExecuteTime": {
     "end_time": "2020-12-11T10:06:02.842147Z",
     "start_time": "2020-12-11T10:06:02.831602Z"
    }
   },
   "outputs": [],
   "source": [
    "# and message from object to string\n",
    "df['message'] = df['message'].astype(str)"
   ]
  },
  {
   "cell_type": "code",
   "execution_count": 8,
   "metadata": {
    "ExecuteTime": {
     "end_time": "2020-12-11T10:06:03.376718Z",
     "start_time": "2020-12-11T10:06:03.363869Z"
    }
   },
   "outputs": [],
   "source": [
    "# split features and labels\n",
    "X = df['message'].values\n",
    "Y = df.drop(['message', 'genre'], axis=1).copy().values"
   ]
  },
  {
   "cell_type": "code",
   "execution_count": 9,
   "metadata": {
    "ExecuteTime": {
     "end_time": "2020-12-11T10:06:03.639921Z",
     "start_time": "2020-12-11T10:06:03.634586Z"
    }
   },
   "outputs": [
    {
     "data": {
      "text/plain": [
       "(26207,)"
      ]
     },
     "execution_count": 9,
     "metadata": {},
     "output_type": "execute_result"
    }
   ],
   "source": [
    "X.shape"
   ]
  },
  {
   "cell_type": "code",
   "execution_count": 11,
   "metadata": {
    "ExecuteTime": {
     "end_time": "2020-12-11T10:06:28.042281Z",
     "start_time": "2020-12-11T10:06:28.037325Z"
    }
   },
   "outputs": [
    {
     "data": {
      "text/plain": [
       "(26207, 36)"
      ]
     },
     "execution_count": 11,
     "metadata": {},
     "output_type": "execute_result"
    }
   ],
   "source": [
    "# with 36 categories\n",
    "Y.shape"
   ]
  },
  {
   "cell_type": "markdown",
   "metadata": {},
   "source": [
    "### 2. Write a tokenization function to process your text data"
   ]
  },
  {
   "cell_type": "code",
   "execution_count": 12,
   "metadata": {
    "ExecuteTime": {
     "end_time": "2020-12-11T10:06:32.206529Z",
     "start_time": "2020-12-11T10:06:31.270059Z"
    }
   },
   "outputs": [
    {
     "name": "stderr",
     "output_type": "stream",
     "text": [
      "[nltk_data] Downloading package punkt to /home/uno/nltk_data...\n",
      "[nltk_data]   Package punkt is already up-to-date!\n",
      "[nltk_data] Downloading package wordnet to /home/uno/nltk_data...\n",
      "[nltk_data]   Package wordnet is already up-to-date!\n",
      "[nltk_data] Downloading package averaged_perceptron_tagger to\n",
      "[nltk_data]     /home/uno/nltk_data...\n",
      "[nltk_data]   Package averaged_perceptron_tagger is already up-to-\n",
      "[nltk_data]       date!\n",
      "[nltk_data] Downloading package stopwords to /home/uno/nltk_data...\n",
      "[nltk_data]   Package stopwords is already up-to-date!\n"
     ]
    },
    {
     "data": {
      "text/plain": [
       "True"
      ]
     },
     "execution_count": 12,
     "metadata": {},
     "output_type": "execute_result"
    }
   ],
   "source": [
    "# import libraries for NLTK\n",
    "import re\n",
    "import nltk\n",
    "nltk.download(['punkt', 'wordnet', 'averaged_perceptron_tagger'])\n",
    "from nltk.tokenize import word_tokenize\n",
    "from nltk.stem import WordNetLemmatizer\n",
    "from nltk.corpus import stopwords\n",
    "nltk.download('stopwords')\n",
    "# stopwords.words('english')"
   ]
  },
  {
   "cell_type": "code",
   "execution_count": 13,
   "metadata": {
    "ExecuteTime": {
     "end_time": "2020-12-11T10:06:32.229716Z",
     "start_time": "2020-12-11T10:06:32.208020Z"
    }
   },
   "outputs": [],
   "source": [
    "# libraries for sklearn\n",
    "from sklearn.multioutput import MultiOutputClassifier\n",
    "from sklearn.neighbors import KNeighborsClassifier\n",
    "from sklearn.feature_extraction.text import CountVectorizer, TfidfTransformer\n",
    "from sklearn.pipeline import Pipeline\n",
    "from sklearn.model_selection import train_test_split\n",
    "from sklearn.metrics import classification_report\n",
    "from sklearn.model_selection import GridSearchCV"
   ]
  },
  {
   "cell_type": "code",
   "execution_count": 14,
   "metadata": {
    "ExecuteTime": {
     "end_time": "2020-12-11T10:06:32.324654Z",
     "start_time": "2020-12-11T10:06:32.317512Z"
    }
   },
   "outputs": [],
   "source": [
    "def tokenize(text):\n",
    "    '''Process text to lower case, remove stopwords, and lemmatize.\n",
    "\n",
    "    Input: A line of text\n",
    "    Return: a list of words (tokens)\n",
    "    '''\n",
    "        \n",
    "    text = re.sub(r'[^a-zA-Z0-9]', ' ', text)\n",
    "    tokens = word_tokenize(text)\n",
    "    \n",
    "    tokens = [w for w in tokens if w not in stopwords.words('english')]\n",
    "    \n",
    "    lemmatizer = WordNetLemmatizer()\n",
    "    \n",
    "    clean_tokens = []\n",
    "    for tok in tokens:\n",
    "        clean_tok = lemmatizer.lemmatize(tok).lower().strip()\n",
    "        clean_tokens.append(clean_tok)\n",
    "    return clean_tokens"
   ]
  },
  {
   "cell_type": "markdown",
   "metadata": {
    "ExecuteTime": {
     "end_time": "2020-12-11T10:06:38.249258Z",
     "start_time": "2020-12-11T10:06:38.246241Z"
    }
   },
   "source": [
    "### 5. Train and test your model\n",
    "Report the f1 score, precision and recall for each output category of the dataset. You can do this by iterating through the columns and calling sklearn's `classification_report` on each."
   ]
  },
  {
   "cell_type": "code",
   "execution_count": 16,
   "metadata": {
    "ExecuteTime": {
     "end_time": "2020-12-11T10:13:23.379441Z",
     "start_time": "2020-12-11T10:13:23.371141Z"
    }
   },
   "outputs": [],
   "source": [
    "# print out scores with `classification_report`\n",
    "# three types of scores: \n",
    "# 1. precision -- portion of the corectly classified to the total classified\n",
    "# 2. recall -- portion of the corectly classified to the total items should be corectly classified\n",
    "# 3. f1-score -- weighted balance of recall and precision\n",
    "# more on these: https://en.wikipedia.org/wiki/F-score\n",
    "\n",
    "labels = df.columns[2:]\n",
    "def test_report(Y_predict, Y_test, verbose=False):\n",
    "    '''return a dictionary of scores from classification report'''\n",
    "    \n",
    "    scores = dict()\n",
    "    for i in range(len(labels)):\n",
    "        report = classification_report(Y_predict[:, i], Y_test[:, i], \n",
    "                                           output_dict=True)\n",
    "        if verbose:\n",
    "            scores.update({labels[i]: report})\n",
    "        else:\n",
    "            scores.update({labels[i]: report['weighted avg']})\n",
    "    return scores"
   ]
  },
  {
   "cell_type": "code",
   "execution_count": 17,
   "metadata": {
    "ExecuteTime": {
     "end_time": "2020-12-11T10:13:24.957202Z",
     "start_time": "2020-12-11T10:13:24.951567Z"
    }
   },
   "outputs": [],
   "source": [
    "def quick_eval(model):\n",
    "    Y_predict = model.predict(X_test)\n",
    "    scores = test_report(Y_predict, Y_test)\n",
    "    df_scores = pd.DataFrame.from_dict(data=scores, orient='index')\n",
    "    print(df_scores.mean(axis=0))\n",
    "    return df_scores"
   ]
  },
  {
   "cell_type": "code",
   "execution_count": 18,
   "metadata": {
    "ExecuteTime": {
     "end_time": "2020-12-11T10:16:03.651341Z",
     "start_time": "2020-12-11T10:13:26.568172Z"
    }
   },
   "outputs": [
    {
     "name": "stdout",
     "output_type": "stream",
     "text": [
      "precision        0.951263\n",
      "recall           0.911741\n",
      "f1-score         0.929251\n",
      "support      18345.000000\n",
      "dtype: float64\n"
     ]
    },
    {
     "data": {
      "text/html": [
       "<div>\n",
       "<style scoped>\n",
       "    .dataframe tbody tr th:only-of-type {\n",
       "        vertical-align: middle;\n",
       "    }\n",
       "\n",
       "    .dataframe tbody tr th {\n",
       "        vertical-align: top;\n",
       "    }\n",
       "\n",
       "    .dataframe thead th {\n",
       "        text-align: right;\n",
       "    }\n",
       "</style>\n",
       "<table border=\"1\" class=\"dataframe\">\n",
       "  <thead>\n",
       "    <tr style=\"text-align: right;\">\n",
       "      <th></th>\n",
       "      <th>precision</th>\n",
       "      <th>recall</th>\n",
       "      <th>f1-score</th>\n",
       "      <th>support</th>\n",
       "    </tr>\n",
       "  </thead>\n",
       "  <tbody>\n",
       "    <tr>\n",
       "      <th>related</th>\n",
       "      <td>0.940639</td>\n",
       "      <td>0.748487</td>\n",
       "      <td>0.829029</td>\n",
       "      <td>18345</td>\n",
       "    </tr>\n",
       "    <tr>\n",
       "      <th>request</th>\n",
       "      <td>0.795049</td>\n",
       "      <td>0.775198</td>\n",
       "      <td>0.784481</td>\n",
       "      <td>18345</td>\n",
       "    </tr>\n",
       "    <tr>\n",
       "      <th>offer</th>\n",
       "      <td>1.000000</td>\n",
       "      <td>0.995312</td>\n",
       "      <td>0.997651</td>\n",
       "      <td>18345</td>\n",
       "    </tr>\n",
       "    <tr>\n",
       "      <th>aid_related</th>\n",
       "      <td>0.547857</td>\n",
       "      <td>0.530717</td>\n",
       "      <td>0.537521</td>\n",
       "      <td>18345</td>\n",
       "    </tr>\n",
       "    <tr>\n",
       "      <th>medical_help</th>\n",
       "      <td>0.998868</td>\n",
       "      <td>0.918942</td>\n",
       "      <td>0.957182</td>\n",
       "      <td>18345</td>\n",
       "    </tr>\n",
       "    <tr>\n",
       "      <th>medical_products</th>\n",
       "      <td>0.999329</td>\n",
       "      <td>0.949741</td>\n",
       "      <td>0.973904</td>\n",
       "      <td>18345</td>\n",
       "    </tr>\n",
       "    <tr>\n",
       "      <th>search_and_rescue</th>\n",
       "      <td>0.999889</td>\n",
       "      <td>0.971872</td>\n",
       "      <td>0.985682</td>\n",
       "      <td>18345</td>\n",
       "    </tr>\n",
       "    <tr>\n",
       "      <th>security</th>\n",
       "      <td>0.999890</td>\n",
       "      <td>0.982720</td>\n",
       "      <td>0.991231</td>\n",
       "      <td>18345</td>\n",
       "    </tr>\n",
       "    <tr>\n",
       "      <th>military</th>\n",
       "      <td>0.999778</td>\n",
       "      <td>0.968166</td>\n",
       "      <td>0.983718</td>\n",
       "      <td>18345</td>\n",
       "    </tr>\n",
       "    <tr>\n",
       "      <th>child_alone</th>\n",
       "      <td>1.000000</td>\n",
       "      <td>1.000000</td>\n",
       "      <td>1.000000</td>\n",
       "      <td>18345</td>\n",
       "    </tr>\n",
       "    <tr>\n",
       "      <th>water</th>\n",
       "      <td>0.998990</td>\n",
       "      <td>0.935241</td>\n",
       "      <td>0.966008</td>\n",
       "      <td>18345</td>\n",
       "    </tr>\n",
       "    <tr>\n",
       "      <th>food</th>\n",
       "      <td>0.996810</td>\n",
       "      <td>0.888035</td>\n",
       "      <td>0.938934</td>\n",
       "      <td>18345</td>\n",
       "    </tr>\n",
       "    <tr>\n",
       "      <th>shelter</th>\n",
       "      <td>0.997265</td>\n",
       "      <td>0.910384</td>\n",
       "      <td>0.951789</td>\n",
       "      <td>18345</td>\n",
       "    </tr>\n",
       "    <tr>\n",
       "      <th>clothing</th>\n",
       "      <td>1.000000</td>\n",
       "      <td>0.984355</td>\n",
       "      <td>0.992116</td>\n",
       "      <td>18345</td>\n",
       "    </tr>\n",
       "    <tr>\n",
       "      <th>money</th>\n",
       "      <td>0.999779</td>\n",
       "      <td>0.976724</td>\n",
       "      <td>0.988117</td>\n",
       "      <td>18345</td>\n",
       "    </tr>\n",
       "    <tr>\n",
       "      <th>missing_people</th>\n",
       "      <td>1.000000</td>\n",
       "      <td>0.988008</td>\n",
       "      <td>0.993968</td>\n",
       "      <td>18345</td>\n",
       "    </tr>\n",
       "    <tr>\n",
       "      <th>refugees</th>\n",
       "      <td>0.999889</td>\n",
       "      <td>0.966421</td>\n",
       "      <td>0.982870</td>\n",
       "      <td>18345</td>\n",
       "    </tr>\n",
       "    <tr>\n",
       "      <th>death</th>\n",
       "      <td>0.999611</td>\n",
       "      <td>0.954265</td>\n",
       "      <td>0.976384</td>\n",
       "      <td>18345</td>\n",
       "    </tr>\n",
       "    <tr>\n",
       "      <th>other_aid</th>\n",
       "      <td>0.903301</td>\n",
       "      <td>0.829490</td>\n",
       "      <td>0.863805</td>\n",
       "      <td>18345</td>\n",
       "    </tr>\n",
       "    <tr>\n",
       "      <th>infrastructure_related</th>\n",
       "      <td>0.999887</td>\n",
       "      <td>0.934587</td>\n",
       "      <td>0.966135</td>\n",
       "      <td>18345</td>\n",
       "    </tr>\n",
       "    <tr>\n",
       "      <th>transport</th>\n",
       "      <td>0.999888</td>\n",
       "      <td>0.952685</td>\n",
       "      <td>0.975716</td>\n",
       "      <td>18345</td>\n",
       "    </tr>\n",
       "    <tr>\n",
       "      <th>buildings</th>\n",
       "      <td>0.990273</td>\n",
       "      <td>0.944290</td>\n",
       "      <td>0.966584</td>\n",
       "      <td>18345</td>\n",
       "    </tr>\n",
       "    <tr>\n",
       "      <th>electricity</th>\n",
       "      <td>1.000000</td>\n",
       "      <td>0.978686</td>\n",
       "      <td>0.989228</td>\n",
       "      <td>18345</td>\n",
       "    </tr>\n",
       "    <tr>\n",
       "      <th>tools</th>\n",
       "      <td>1.000000</td>\n",
       "      <td>0.993568</td>\n",
       "      <td>0.996773</td>\n",
       "      <td>18345</td>\n",
       "    </tr>\n",
       "    <tr>\n",
       "      <th>hospitals</th>\n",
       "      <td>1.000000</td>\n",
       "      <td>0.989752</td>\n",
       "      <td>0.994850</td>\n",
       "      <td>18345</td>\n",
       "    </tr>\n",
       "    <tr>\n",
       "      <th>shops</th>\n",
       "      <td>1.000000</td>\n",
       "      <td>0.995748</td>\n",
       "      <td>0.997870</td>\n",
       "      <td>18345</td>\n",
       "    </tr>\n",
       "    <tr>\n",
       "      <th>aid_centers</th>\n",
       "      <td>1.000000</td>\n",
       "      <td>0.988280</td>\n",
       "      <td>0.994106</td>\n",
       "      <td>18345</td>\n",
       "    </tr>\n",
       "    <tr>\n",
       "      <th>other_infrastructure</th>\n",
       "      <td>1.000000</td>\n",
       "      <td>0.955192</td>\n",
       "      <td>0.977083</td>\n",
       "      <td>18345</td>\n",
       "    </tr>\n",
       "    <tr>\n",
       "      <th>weather_related</th>\n",
       "      <td>0.566314</td>\n",
       "      <td>0.545925</td>\n",
       "      <td>0.523348</td>\n",
       "      <td>18345</td>\n",
       "    </tr>\n",
       "    <tr>\n",
       "      <th>floods</th>\n",
       "      <td>0.745223</td>\n",
       "      <td>0.793186</td>\n",
       "      <td>0.764880</td>\n",
       "      <td>18345</td>\n",
       "    </tr>\n",
       "    <tr>\n",
       "      <th>storm</th>\n",
       "      <td>0.995611</td>\n",
       "      <td>0.905751</td>\n",
       "      <td>0.948060</td>\n",
       "      <td>18345</td>\n",
       "    </tr>\n",
       "    <tr>\n",
       "      <th>fire</th>\n",
       "      <td>1.000000</td>\n",
       "      <td>0.989261</td>\n",
       "      <td>0.994602</td>\n",
       "      <td>18345</td>\n",
       "    </tr>\n",
       "    <tr>\n",
       "      <th>earthquake</th>\n",
       "      <td>0.988893</td>\n",
       "      <td>0.908204</td>\n",
       "      <td>0.943945</td>\n",
       "      <td>18345</td>\n",
       "    </tr>\n",
       "    <tr>\n",
       "      <th>cold</th>\n",
       "      <td>1.000000</td>\n",
       "      <td>0.978850</td>\n",
       "      <td>0.989312</td>\n",
       "      <td>18345</td>\n",
       "    </tr>\n",
       "    <tr>\n",
       "      <th>other_weather</th>\n",
       "      <td>0.998208</td>\n",
       "      <td>0.946579</td>\n",
       "      <td>0.971708</td>\n",
       "      <td>18345</td>\n",
       "    </tr>\n",
       "    <tr>\n",
       "      <th>direct_report</th>\n",
       "      <td>0.784229</td>\n",
       "      <td>0.748051</td>\n",
       "      <td>0.764444</td>\n",
       "      <td>18345</td>\n",
       "    </tr>\n",
       "  </tbody>\n",
       "</table>\n",
       "</div>"
      ],
      "text/plain": [
       "                        precision    recall  f1-score  support\n",
       "related                  0.940639  0.748487  0.829029    18345\n",
       "request                  0.795049  0.775198  0.784481    18345\n",
       "offer                    1.000000  0.995312  0.997651    18345\n",
       "aid_related              0.547857  0.530717  0.537521    18345\n",
       "medical_help             0.998868  0.918942  0.957182    18345\n",
       "medical_products         0.999329  0.949741  0.973904    18345\n",
       "search_and_rescue        0.999889  0.971872  0.985682    18345\n",
       "security                 0.999890  0.982720  0.991231    18345\n",
       "military                 0.999778  0.968166  0.983718    18345\n",
       "child_alone              1.000000  1.000000  1.000000    18345\n",
       "water                    0.998990  0.935241  0.966008    18345\n",
       "food                     0.996810  0.888035  0.938934    18345\n",
       "shelter                  0.997265  0.910384  0.951789    18345\n",
       "clothing                 1.000000  0.984355  0.992116    18345\n",
       "money                    0.999779  0.976724  0.988117    18345\n",
       "missing_people           1.000000  0.988008  0.993968    18345\n",
       "refugees                 0.999889  0.966421  0.982870    18345\n",
       "death                    0.999611  0.954265  0.976384    18345\n",
       "other_aid                0.903301  0.829490  0.863805    18345\n",
       "infrastructure_related   0.999887  0.934587  0.966135    18345\n",
       "transport                0.999888  0.952685  0.975716    18345\n",
       "buildings                0.990273  0.944290  0.966584    18345\n",
       "electricity              1.000000  0.978686  0.989228    18345\n",
       "tools                    1.000000  0.993568  0.996773    18345\n",
       "hospitals                1.000000  0.989752  0.994850    18345\n",
       "shops                    1.000000  0.995748  0.997870    18345\n",
       "aid_centers              1.000000  0.988280  0.994106    18345\n",
       "other_infrastructure     1.000000  0.955192  0.977083    18345\n",
       "weather_related          0.566314  0.545925  0.523348    18345\n",
       "floods                   0.745223  0.793186  0.764880    18345\n",
       "storm                    0.995611  0.905751  0.948060    18345\n",
       "fire                     1.000000  0.989261  0.994602    18345\n",
       "earthquake               0.988893  0.908204  0.943945    18345\n",
       "cold                     1.000000  0.978850  0.989312    18345\n",
       "other_weather            0.998208  0.946579  0.971708    18345\n",
       "direct_report            0.784229  0.748051  0.764444    18345"
      ]
     },
     "execution_count": 18,
     "metadata": {},
     "output_type": "execute_result"
    }
   ],
   "source": [
    "# with Pipeline only, not GridSearch\n",
    "X_train, X_test, Y_train, Y_test = train_test_split(X, Y, test_size=0.7, random_state=1)\n",
    "pipeline_knn = Pipeline([\n",
    "    ('vect', CountVectorizer(tokenizer=tokenize)),\n",
    "    ('tfidf', TfidfTransformer()),\n",
    "    ('clf', MultiOutputClassifier(KNeighborsClassifier()))\n",
    "])\n",
    "pipeline_knn.fit(X_train, Y_train)\n",
    "quick_eval(pipeline_knn)"
   ]
  },
  {
   "cell_type": "code",
   "execution_count": 27,
   "metadata": {
    "ExecuteTime": {
     "end_time": "2020-12-11T10:48:06.847889Z",
     "start_time": "2020-12-11T10:20:00.899578Z"
    },
    "scrolled": false
   },
   "outputs": [
    {
     "name": "stdout",
     "output_type": "stream",
     "text": [
      "Fitting 3 folds for each of 144 candidates, totalling 432 fits\n"
     ]
    },
    {
     "name": "stderr",
     "output_type": "stream",
     "text": [
      "[Parallel(n_jobs=-1)]: Using backend LokyBackend with 16 concurrent workers.\n",
      "[Parallel(n_jobs=-1)]: Done  18 tasks      | elapsed:  2.4min\n",
      "[Parallel(n_jobs=-1)]: Done 168 tasks      | elapsed: 12.4min\n",
      "[Parallel(n_jobs=-1)]: Done 432 out of 432 | elapsed: 27.8min finished\n"
     ]
    },
    {
     "name": "stdout",
     "output_type": "stream",
     "text": [
      "Total training time: 1685.9 seconds\n"
     ]
    }
   ],
   "source": [
    "# experiment with GridSearchCV and parameters\n",
    "\n",
    "X_train, X_test, Y_train, Y_test = train_test_split(X, Y, test_size=0.7, random_state=1)\n",
    "pipeline_knn = Pipeline([\n",
    "    ('vect', CountVectorizer(tokenizer=tokenize)),\n",
    "    ('tfidf', TfidfTransformer()),\n",
    "    ('clf', MultiOutputClassifier(KNeighborsClassifier()))\n",
    "])\n",
    "parameters = {\n",
    "#         'vect__stop_words': (None, 'english'),\n",
    "        'vect__ngram_range': ((1, 1), (1, 2)),\n",
    "        'vect__max_df': (0.5, 0.75, 1.0),\n",
    "        'vect__max_features': (None, 100, 1000, 10000),\n",
    "        'tfidf__use_idf': (True, False),\n",
    "#         'tfidf__smooth_idf': (True, False),\n",
    "#         'tfidf__sublinear_tf': (True, False),\n",
    "        'clf__estimator__n_neighbors': [3, 5, 10],\n",
    "#         'clf__estimator__weights': ['uniform', 'distance'],\n",
    "#         'clf__estimator__algorithm': ['auto', 'ball_tree', 'kd_tree', 'brute'],\n",
    "#         'clf__estimator__leaf_size': [1,10,30,50],\n",
    "#         'clf__estimator__p': [1,2,3]\n",
    "    }\n",
    "cv = GridSearchCV(pipeline_knn, param_grid=parameters, cv=3, verbose=True, n_jobs=-1)\n",
    "\n",
    "start = time.time()\n",
    "cv.fit(X_train, Y_train)\n",
    "last_for = time.time() - start\n",
    "print(f'Total training time: {last_for:.1f} seconds')"
   ]
  },
  {
   "cell_type": "code",
   "execution_count": 28,
   "metadata": {
    "ExecuteTime": {
     "end_time": "2020-12-11T10:48:06.859365Z",
     "start_time": "2020-12-11T10:48:06.849355Z"
    }
   },
   "outputs": [
    {
     "data": {
      "text/plain": [
       "Pipeline(memory=None,\n",
       "         steps=[('vect',\n",
       "                 CountVectorizer(analyzer='word', binary=False,\n",
       "                                 decode_error='strict',\n",
       "                                 dtype=<class 'numpy.int64'>, encoding='utf-8',\n",
       "                                 input='content', lowercase=True, max_df=0.5,\n",
       "                                 max_features=1000, min_df=1,\n",
       "                                 ngram_range=(1, 1), preprocessor=None,\n",
       "                                 stop_words=None, strip_accents=None,\n",
       "                                 token_pattern='(?u)\\\\b\\\\w\\\\w+\\\\b',\n",
       "                                 tokenizer=<function tokenize at 0x7fde48d91b70>,\n",
       "                                 vocabulary=None)),\n",
       "                ('tfidf',\n",
       "                 TfidfTransformer(norm='l2', smooth_idf=True,\n",
       "                                  sublinear_tf=False, use_idf=True)),\n",
       "                ('clf',\n",
       "                 MultiOutputClassifier(estimator=KNeighborsClassifier(algorithm='auto',\n",
       "                                                                      leaf_size=30,\n",
       "                                                                      metric='minkowski',\n",
       "                                                                      metric_params=None,\n",
       "                                                                      n_jobs=None,\n",
       "                                                                      n_neighbors=10,\n",
       "                                                                      p=2,\n",
       "                                                                      weights='uniform'),\n",
       "                                       n_jobs=None))],\n",
       "         verbose=False)"
      ]
     },
     "execution_count": 28,
     "metadata": {},
     "output_type": "execute_result"
    }
   ],
   "source": [
    "# see what the best parameters for fitting so far\n",
    "cv.best_estimator_"
   ]
  },
  {
   "cell_type": "code",
   "execution_count": 29,
   "metadata": {
    "ExecuteTime": {
     "end_time": "2020-12-11T10:50:29.657363Z",
     "start_time": "2020-12-11T10:48:06.861498Z"
    }
   },
   "outputs": [
    {
     "name": "stdout",
     "output_type": "stream",
     "text": [
      "precision        0.978857\n",
      "recall           0.922109\n",
      "f1-score         0.947645\n",
      "support      18345.000000\n",
      "dtype: float64\n"
     ]
    },
    {
     "data": {
      "text/html": [
       "<div>\n",
       "<style scoped>\n",
       "    .dataframe tbody tr th:only-of-type {\n",
       "        vertical-align: middle;\n",
       "    }\n",
       "\n",
       "    .dataframe tbody tr th {\n",
       "        vertical-align: top;\n",
       "    }\n",
       "\n",
       "    .dataframe thead th {\n",
       "        text-align: right;\n",
       "    }\n",
       "</style>\n",
       "<table border=\"1\" class=\"dataframe\">\n",
       "  <thead>\n",
       "    <tr style=\"text-align: right;\">\n",
       "      <th></th>\n",
       "      <th>precision</th>\n",
       "      <th>recall</th>\n",
       "      <th>f1-score</th>\n",
       "      <th>support</th>\n",
       "    </tr>\n",
       "  </thead>\n",
       "  <tbody>\n",
       "    <tr>\n",
       "      <th>related</th>\n",
       "      <td>0.636927</td>\n",
       "      <td>0.637176</td>\n",
       "      <td>0.637009</td>\n",
       "      <td>18345</td>\n",
       "    </tr>\n",
       "    <tr>\n",
       "      <th>request</th>\n",
       "      <td>0.966008</td>\n",
       "      <td>0.823930</td>\n",
       "      <td>0.886471</td>\n",
       "      <td>18345</td>\n",
       "    </tr>\n",
       "    <tr>\n",
       "      <th>offer</th>\n",
       "      <td>1.000000</td>\n",
       "      <td>0.995312</td>\n",
       "      <td>0.997651</td>\n",
       "      <td>18345</td>\n",
       "    </tr>\n",
       "    <tr>\n",
       "      <th>aid_related</th>\n",
       "      <td>0.733332</td>\n",
       "      <td>0.559062</td>\n",
       "      <td>0.617857</td>\n",
       "      <td>18345</td>\n",
       "    </tr>\n",
       "    <tr>\n",
       "      <th>medical_help</th>\n",
       "      <td>1.000000</td>\n",
       "      <td>0.919324</td>\n",
       "      <td>0.957966</td>\n",
       "      <td>18345</td>\n",
       "    </tr>\n",
       "    <tr>\n",
       "      <th>medical_products</th>\n",
       "      <td>1.000000</td>\n",
       "      <td>0.950068</td>\n",
       "      <td>0.974395</td>\n",
       "      <td>18345</td>\n",
       "    </tr>\n",
       "    <tr>\n",
       "      <th>search_and_rescue</th>\n",
       "      <td>1.000000</td>\n",
       "      <td>0.971927</td>\n",
       "      <td>0.985764</td>\n",
       "      <td>18345</td>\n",
       "    </tr>\n",
       "    <tr>\n",
       "      <th>security</th>\n",
       "      <td>1.000000</td>\n",
       "      <td>0.982775</td>\n",
       "      <td>0.991312</td>\n",
       "      <td>18345</td>\n",
       "    </tr>\n",
       "    <tr>\n",
       "      <th>military</th>\n",
       "      <td>1.000000</td>\n",
       "      <td>0.968275</td>\n",
       "      <td>0.983882</td>\n",
       "      <td>18345</td>\n",
       "    </tr>\n",
       "    <tr>\n",
       "      <th>child_alone</th>\n",
       "      <td>1.000000</td>\n",
       "      <td>1.000000</td>\n",
       "      <td>1.000000</td>\n",
       "      <td>18345</td>\n",
       "    </tr>\n",
       "    <tr>\n",
       "      <th>water</th>\n",
       "      <td>1.000000</td>\n",
       "      <td>0.935568</td>\n",
       "      <td>0.966712</td>\n",
       "      <td>18345</td>\n",
       "    </tr>\n",
       "    <tr>\n",
       "      <th>food</th>\n",
       "      <td>0.999374</td>\n",
       "      <td>0.888525</td>\n",
       "      <td>0.940605</td>\n",
       "      <td>18345</td>\n",
       "    </tr>\n",
       "    <tr>\n",
       "      <th>shelter</th>\n",
       "      <td>0.999886</td>\n",
       "      <td>0.911475</td>\n",
       "      <td>0.953635</td>\n",
       "      <td>18345</td>\n",
       "    </tr>\n",
       "    <tr>\n",
       "      <th>clothing</th>\n",
       "      <td>1.000000</td>\n",
       "      <td>0.984355</td>\n",
       "      <td>0.992116</td>\n",
       "      <td>18345</td>\n",
       "    </tr>\n",
       "    <tr>\n",
       "      <th>money</th>\n",
       "      <td>1.000000</td>\n",
       "      <td>0.976833</td>\n",
       "      <td>0.988281</td>\n",
       "      <td>18345</td>\n",
       "    </tr>\n",
       "    <tr>\n",
       "      <th>missing_people</th>\n",
       "      <td>1.000000</td>\n",
       "      <td>0.988008</td>\n",
       "      <td>0.993968</td>\n",
       "      <td>18345</td>\n",
       "    </tr>\n",
       "    <tr>\n",
       "      <th>refugees</th>\n",
       "      <td>1.000000</td>\n",
       "      <td>0.966476</td>\n",
       "      <td>0.982952</td>\n",
       "      <td>18345</td>\n",
       "    </tr>\n",
       "    <tr>\n",
       "      <th>death</th>\n",
       "      <td>1.000000</td>\n",
       "      <td>0.954374</td>\n",
       "      <td>0.976655</td>\n",
       "      <td>18345</td>\n",
       "    </tr>\n",
       "    <tr>\n",
       "      <th>other_aid</th>\n",
       "      <td>0.999774</td>\n",
       "      <td>0.867811</td>\n",
       "      <td>0.929068</td>\n",
       "      <td>18345</td>\n",
       "    </tr>\n",
       "    <tr>\n",
       "      <th>infrastructure_related</th>\n",
       "      <td>1.000000</td>\n",
       "      <td>0.934642</td>\n",
       "      <td>0.966217</td>\n",
       "      <td>18345</td>\n",
       "    </tr>\n",
       "    <tr>\n",
       "      <th>transport</th>\n",
       "      <td>1.000000</td>\n",
       "      <td>0.952739</td>\n",
       "      <td>0.975798</td>\n",
       "      <td>18345</td>\n",
       "    </tr>\n",
       "    <tr>\n",
       "      <th>buildings</th>\n",
       "      <td>1.000000</td>\n",
       "      <td>0.948487</td>\n",
       "      <td>0.973563</td>\n",
       "      <td>18345</td>\n",
       "    </tr>\n",
       "    <tr>\n",
       "      <th>electricity</th>\n",
       "      <td>1.000000</td>\n",
       "      <td>0.978686</td>\n",
       "      <td>0.989228</td>\n",
       "      <td>18345</td>\n",
       "    </tr>\n",
       "    <tr>\n",
       "      <th>tools</th>\n",
       "      <td>1.000000</td>\n",
       "      <td>0.993568</td>\n",
       "      <td>0.996773</td>\n",
       "      <td>18345</td>\n",
       "    </tr>\n",
       "    <tr>\n",
       "      <th>hospitals</th>\n",
       "      <td>1.000000</td>\n",
       "      <td>0.989752</td>\n",
       "      <td>0.994850</td>\n",
       "      <td>18345</td>\n",
       "    </tr>\n",
       "    <tr>\n",
       "      <th>shops</th>\n",
       "      <td>1.000000</td>\n",
       "      <td>0.995748</td>\n",
       "      <td>0.997870</td>\n",
       "      <td>18345</td>\n",
       "    </tr>\n",
       "    <tr>\n",
       "      <th>aid_centers</th>\n",
       "      <td>1.000000</td>\n",
       "      <td>0.988280</td>\n",
       "      <td>0.994106</td>\n",
       "      <td>18345</td>\n",
       "    </tr>\n",
       "    <tr>\n",
       "      <th>other_infrastructure</th>\n",
       "      <td>1.000000</td>\n",
       "      <td>0.955192</td>\n",
       "      <td>0.977083</td>\n",
       "      <td>18345</td>\n",
       "    </tr>\n",
       "    <tr>\n",
       "      <th>weather_related</th>\n",
       "      <td>0.955361</td>\n",
       "      <td>0.727392</td>\n",
       "      <td>0.816097</td>\n",
       "      <td>18345</td>\n",
       "    </tr>\n",
       "    <tr>\n",
       "      <th>floods</th>\n",
       "      <td>1.000000</td>\n",
       "      <td>0.916380</td>\n",
       "      <td>0.956366</td>\n",
       "      <td>18345</td>\n",
       "    </tr>\n",
       "    <tr>\n",
       "      <th>storm</th>\n",
       "      <td>0.990263</td>\n",
       "      <td>0.906405</td>\n",
       "      <td>0.945037</td>\n",
       "      <td>18345</td>\n",
       "    </tr>\n",
       "    <tr>\n",
       "      <th>fire</th>\n",
       "      <td>1.000000</td>\n",
       "      <td>0.989261</td>\n",
       "      <td>0.994602</td>\n",
       "      <td>18345</td>\n",
       "    </tr>\n",
       "    <tr>\n",
       "      <th>earthquake</th>\n",
       "      <td>0.983240</td>\n",
       "      <td>0.910384</td>\n",
       "      <td>0.941688</td>\n",
       "      <td>18345</td>\n",
       "    </tr>\n",
       "    <tr>\n",
       "      <th>cold</th>\n",
       "      <td>1.000000</td>\n",
       "      <td>0.978850</td>\n",
       "      <td>0.989312</td>\n",
       "      <td>18345</td>\n",
       "    </tr>\n",
       "    <tr>\n",
       "      <th>other_weather</th>\n",
       "      <td>1.000000</td>\n",
       "      <td>0.947452</td>\n",
       "      <td>0.973017</td>\n",
       "      <td>18345</td>\n",
       "    </tr>\n",
       "    <tr>\n",
       "      <th>direct_report</th>\n",
       "      <td>0.974671</td>\n",
       "      <td>0.801417</td>\n",
       "      <td>0.877314</td>\n",
       "      <td>18345</td>\n",
       "    </tr>\n",
       "  </tbody>\n",
       "</table>\n",
       "</div>"
      ],
      "text/plain": [
       "                        precision    recall  f1-score  support\n",
       "related                  0.636927  0.637176  0.637009    18345\n",
       "request                  0.966008  0.823930  0.886471    18345\n",
       "offer                    1.000000  0.995312  0.997651    18345\n",
       "aid_related              0.733332  0.559062  0.617857    18345\n",
       "medical_help             1.000000  0.919324  0.957966    18345\n",
       "medical_products         1.000000  0.950068  0.974395    18345\n",
       "search_and_rescue        1.000000  0.971927  0.985764    18345\n",
       "security                 1.000000  0.982775  0.991312    18345\n",
       "military                 1.000000  0.968275  0.983882    18345\n",
       "child_alone              1.000000  1.000000  1.000000    18345\n",
       "water                    1.000000  0.935568  0.966712    18345\n",
       "food                     0.999374  0.888525  0.940605    18345\n",
       "shelter                  0.999886  0.911475  0.953635    18345\n",
       "clothing                 1.000000  0.984355  0.992116    18345\n",
       "money                    1.000000  0.976833  0.988281    18345\n",
       "missing_people           1.000000  0.988008  0.993968    18345\n",
       "refugees                 1.000000  0.966476  0.982952    18345\n",
       "death                    1.000000  0.954374  0.976655    18345\n",
       "other_aid                0.999774  0.867811  0.929068    18345\n",
       "infrastructure_related   1.000000  0.934642  0.966217    18345\n",
       "transport                1.000000  0.952739  0.975798    18345\n",
       "buildings                1.000000  0.948487  0.973563    18345\n",
       "electricity              1.000000  0.978686  0.989228    18345\n",
       "tools                    1.000000  0.993568  0.996773    18345\n",
       "hospitals                1.000000  0.989752  0.994850    18345\n",
       "shops                    1.000000  0.995748  0.997870    18345\n",
       "aid_centers              1.000000  0.988280  0.994106    18345\n",
       "other_infrastructure     1.000000  0.955192  0.977083    18345\n",
       "weather_related          0.955361  0.727392  0.816097    18345\n",
       "floods                   1.000000  0.916380  0.956366    18345\n",
       "storm                    0.990263  0.906405  0.945037    18345\n",
       "fire                     1.000000  0.989261  0.994602    18345\n",
       "earthquake               0.983240  0.910384  0.941688    18345\n",
       "cold                     1.000000  0.978850  0.989312    18345\n",
       "other_weather            1.000000  0.947452  0.973017    18345\n",
       "direct_report            0.974671  0.801417  0.877314    18345"
      ]
     },
     "execution_count": 29,
     "metadata": {},
     "output_type": "execute_result"
    }
   ],
   "source": [
    "quick_eval(cv)"
   ]
  },
  {
   "cell_type": "code",
   "execution_count": 30,
   "metadata": {
    "ExecuteTime": {
     "end_time": "2020-12-11T11:07:05.013739Z",
     "start_time": "2020-12-11T10:50:29.658532Z"
    }
   },
   "outputs": [
    {
     "name": "stdout",
     "output_type": "stream",
     "text": [
      "Fitting 5 folds for each of 54 candidates, totalling 270 fits\n"
     ]
    },
    {
     "name": "stderr",
     "output_type": "stream",
     "text": [
      "[Parallel(n_jobs=12)]: Using backend LokyBackend with 12 concurrent workers.\n",
      "[Parallel(n_jobs=12)]: Done  26 tasks      | elapsed:  2.3min\n",
      "[Parallel(n_jobs=12)]: Done 176 tasks      | elapsed: 11.0min\n",
      "[Parallel(n_jobs=12)]: Done 270 out of 270 | elapsed: 16.3min finished\n"
     ]
    },
    {
     "name": "stdout",
     "output_type": "stream",
     "text": [
      "Total training time: 995.3 seconds\n"
     ]
    }
   ],
   "source": [
    "# we can fix some features and fine tune by another run\n",
    "X_train, X_test, Y_train, Y_test = train_test_split(X, Y, test_size=0.7, random_state=1)\n",
    "pipeline_knn = Pipeline([\n",
    "    ('vect', CountVectorizer(tokenizer=tokenize, ngram_range=(1,1))),\n",
    "    ('tfidf', TfidfTransformer()),\n",
    "    ('clf', MultiOutputClassifier(KNeighborsClassifier()))\n",
    "])\n",
    "parameters = {\n",
    "#         'vect__stop_words': (None, 'english'),\n",
    "#         'vect__ngram_range': ((1, 1)),\n",
    "        'vect__max_df': (0.25, 0.5, 0.75),\n",
    "        'vect__max_features': (500, 1000, 2000),\n",
    "        'tfidf__use_idf': (True, False),\n",
    "#         'tfidf__smooth_idf': (True, False),\n",
    "#         'tfidf__sublinear_tf': (True, False),\n",
    "        'clf__estimator__n_neighbors': [5, 10, 20],\n",
    "#         'clf__estimator__weights': ['uniform', 'distance'],\n",
    "#         'clf__estimator__algorithm': ['auto', 'ball_tree', 'kd_tree', 'brute'],\n",
    "#         'clf__estimator__leaf_size': [1,10,30,50],\n",
    "#         'clf__estimator__p': [1,2,3]\n",
    "    }\n",
    "cv = GridSearchCV(pipeline_knn, param_grid=parameters, cv=5, verbose=True, n_jobs=12)\n",
    "\n",
    "start = time.time()\n",
    "cv.fit(X_train, Y_train)\n",
    "last_for = time.time() - start\n",
    "print(f'Total training time: {last_for:.1f} seconds')"
   ]
  },
  {
   "cell_type": "code",
   "execution_count": 31,
   "metadata": {
    "ExecuteTime": {
     "end_time": "2020-12-11T11:07:05.022875Z",
     "start_time": "2020-12-11T11:07:05.014929Z"
    }
   },
   "outputs": [
    {
     "data": {
      "text/plain": [
       "Pipeline(memory=None,\n",
       "         steps=[('vect',\n",
       "                 CountVectorizer(analyzer='word', binary=False,\n",
       "                                 decode_error='strict',\n",
       "                                 dtype=<class 'numpy.int64'>, encoding='utf-8',\n",
       "                                 input='content', lowercase=True, max_df=0.25,\n",
       "                                 max_features=2000, min_df=1,\n",
       "                                 ngram_range=(1, 1), preprocessor=None,\n",
       "                                 stop_words=None, strip_accents=None,\n",
       "                                 token_pattern='(?u)\\\\b\\\\w\\\\w+\\\\b',\n",
       "                                 tokenizer=<function tokenize at 0x7fde48d91b70>,\n",
       "                                 vocabulary=None)),\n",
       "                ('tfidf',\n",
       "                 TfidfTransformer(norm='l2', smooth_idf=True,\n",
       "                                  sublinear_tf=False, use_idf=True)),\n",
       "                ('clf',\n",
       "                 MultiOutputClassifier(estimator=KNeighborsClassifier(algorithm='auto',\n",
       "                                                                      leaf_size=30,\n",
       "                                                                      metric='minkowski',\n",
       "                                                                      metric_params=None,\n",
       "                                                                      n_jobs=None,\n",
       "                                                                      n_neighbors=10,\n",
       "                                                                      p=2,\n",
       "                                                                      weights='uniform'),\n",
       "                                       n_jobs=None))],\n",
       "         verbose=False)"
      ]
     },
     "execution_count": 31,
     "metadata": {},
     "output_type": "execute_result"
    }
   ],
   "source": [
    "# check again\n",
    "cv.best_estimator_"
   ]
  },
  {
   "cell_type": "code",
   "execution_count": 32,
   "metadata": {
    "ExecuteTime": {
     "end_time": "2020-12-11T11:09:29.269392Z",
     "start_time": "2020-12-11T11:07:05.024975Z"
    }
   },
   "outputs": [
    {
     "name": "stdout",
     "output_type": "stream",
     "text": [
      "precision        0.981909\n",
      "recall           0.919825\n",
      "f1-score         0.946952\n",
      "support      18345.000000\n",
      "dtype: float64\n"
     ]
    },
    {
     "data": {
      "text/html": [
       "<div>\n",
       "<style scoped>\n",
       "    .dataframe tbody tr th:only-of-type {\n",
       "        vertical-align: middle;\n",
       "    }\n",
       "\n",
       "    .dataframe tbody tr th {\n",
       "        vertical-align: top;\n",
       "    }\n",
       "\n",
       "    .dataframe thead th {\n",
       "        text-align: right;\n",
       "    }\n",
       "</style>\n",
       "<table border=\"1\" class=\"dataframe\">\n",
       "  <thead>\n",
       "    <tr style=\"text-align: right;\">\n",
       "      <th></th>\n",
       "      <th>precision</th>\n",
       "      <th>recall</th>\n",
       "      <th>f1-score</th>\n",
       "      <th>support</th>\n",
       "    </tr>\n",
       "  </thead>\n",
       "  <tbody>\n",
       "    <tr>\n",
       "      <th>related</th>\n",
       "      <td>0.516249</td>\n",
       "      <td>0.538021</td>\n",
       "      <td>0.506490</td>\n",
       "      <td>18345</td>\n",
       "    </tr>\n",
       "    <tr>\n",
       "      <th>request</th>\n",
       "      <td>0.974985</td>\n",
       "      <td>0.826765</td>\n",
       "      <td>0.892123</td>\n",
       "      <td>18345</td>\n",
       "    </tr>\n",
       "    <tr>\n",
       "      <th>offer</th>\n",
       "      <td>1.000000</td>\n",
       "      <td>0.995312</td>\n",
       "      <td>0.997651</td>\n",
       "      <td>18345</td>\n",
       "    </tr>\n",
       "    <tr>\n",
       "      <th>aid_related</th>\n",
       "      <td>0.900751</td>\n",
       "      <td>0.574053</td>\n",
       "      <td>0.689944</td>\n",
       "      <td>18345</td>\n",
       "    </tr>\n",
       "    <tr>\n",
       "      <th>medical_help</th>\n",
       "      <td>1.000000</td>\n",
       "      <td>0.919324</td>\n",
       "      <td>0.957966</td>\n",
       "      <td>18345</td>\n",
       "    </tr>\n",
       "    <tr>\n",
       "      <th>medical_products</th>\n",
       "      <td>1.000000</td>\n",
       "      <td>0.950068</td>\n",
       "      <td>0.974395</td>\n",
       "      <td>18345</td>\n",
       "    </tr>\n",
       "    <tr>\n",
       "      <th>search_and_rescue</th>\n",
       "      <td>1.000000</td>\n",
       "      <td>0.971927</td>\n",
       "      <td>0.985764</td>\n",
       "      <td>18345</td>\n",
       "    </tr>\n",
       "    <tr>\n",
       "      <th>security</th>\n",
       "      <td>1.000000</td>\n",
       "      <td>0.982775</td>\n",
       "      <td>0.991312</td>\n",
       "      <td>18345</td>\n",
       "    </tr>\n",
       "    <tr>\n",
       "      <th>military</th>\n",
       "      <td>1.000000</td>\n",
       "      <td>0.968275</td>\n",
       "      <td>0.983882</td>\n",
       "      <td>18345</td>\n",
       "    </tr>\n",
       "    <tr>\n",
       "      <th>child_alone</th>\n",
       "      <td>1.000000</td>\n",
       "      <td>1.000000</td>\n",
       "      <td>1.000000</td>\n",
       "      <td>18345</td>\n",
       "    </tr>\n",
       "    <tr>\n",
       "      <th>water</th>\n",
       "      <td>1.000000</td>\n",
       "      <td>0.935568</td>\n",
       "      <td>0.966712</td>\n",
       "      <td>18345</td>\n",
       "    </tr>\n",
       "    <tr>\n",
       "      <th>food</th>\n",
       "      <td>0.999775</td>\n",
       "      <td>0.888635</td>\n",
       "      <td>0.940873</td>\n",
       "      <td>18345</td>\n",
       "    </tr>\n",
       "    <tr>\n",
       "      <th>shelter</th>\n",
       "      <td>1.000000</td>\n",
       "      <td>0.911529</td>\n",
       "      <td>0.953717</td>\n",
       "      <td>18345</td>\n",
       "    </tr>\n",
       "    <tr>\n",
       "      <th>clothing</th>\n",
       "      <td>1.000000</td>\n",
       "      <td>0.984355</td>\n",
       "      <td>0.992116</td>\n",
       "      <td>18345</td>\n",
       "    </tr>\n",
       "    <tr>\n",
       "      <th>money</th>\n",
       "      <td>1.000000</td>\n",
       "      <td>0.976833</td>\n",
       "      <td>0.988281</td>\n",
       "      <td>18345</td>\n",
       "    </tr>\n",
       "    <tr>\n",
       "      <th>missing_people</th>\n",
       "      <td>1.000000</td>\n",
       "      <td>0.988008</td>\n",
       "      <td>0.993968</td>\n",
       "      <td>18345</td>\n",
       "    </tr>\n",
       "    <tr>\n",
       "      <th>refugees</th>\n",
       "      <td>1.000000</td>\n",
       "      <td>0.966476</td>\n",
       "      <td>0.982952</td>\n",
       "      <td>18345</td>\n",
       "    </tr>\n",
       "    <tr>\n",
       "      <th>death</th>\n",
       "      <td>1.000000</td>\n",
       "      <td>0.954374</td>\n",
       "      <td>0.976655</td>\n",
       "      <td>18345</td>\n",
       "    </tr>\n",
       "    <tr>\n",
       "      <th>other_aid</th>\n",
       "      <td>1.000000</td>\n",
       "      <td>0.867757</td>\n",
       "      <td>0.929197</td>\n",
       "      <td>18345</td>\n",
       "    </tr>\n",
       "    <tr>\n",
       "      <th>infrastructure_related</th>\n",
       "      <td>1.000000</td>\n",
       "      <td>0.934642</td>\n",
       "      <td>0.966217</td>\n",
       "      <td>18345</td>\n",
       "    </tr>\n",
       "    <tr>\n",
       "      <th>transport</th>\n",
       "      <td>1.000000</td>\n",
       "      <td>0.952739</td>\n",
       "      <td>0.975798</td>\n",
       "      <td>18345</td>\n",
       "    </tr>\n",
       "    <tr>\n",
       "      <th>buildings</th>\n",
       "      <td>1.000000</td>\n",
       "      <td>0.948487</td>\n",
       "      <td>0.973563</td>\n",
       "      <td>18345</td>\n",
       "    </tr>\n",
       "    <tr>\n",
       "      <th>electricity</th>\n",
       "      <td>1.000000</td>\n",
       "      <td>0.978686</td>\n",
       "      <td>0.989228</td>\n",
       "      <td>18345</td>\n",
       "    </tr>\n",
       "    <tr>\n",
       "      <th>tools</th>\n",
       "      <td>1.000000</td>\n",
       "      <td>0.993568</td>\n",
       "      <td>0.996773</td>\n",
       "      <td>18345</td>\n",
       "    </tr>\n",
       "    <tr>\n",
       "      <th>hospitals</th>\n",
       "      <td>1.000000</td>\n",
       "      <td>0.989752</td>\n",
       "      <td>0.994850</td>\n",
       "      <td>18345</td>\n",
       "    </tr>\n",
       "    <tr>\n",
       "      <th>shops</th>\n",
       "      <td>1.000000</td>\n",
       "      <td>0.995748</td>\n",
       "      <td>0.997870</td>\n",
       "      <td>18345</td>\n",
       "    </tr>\n",
       "    <tr>\n",
       "      <th>aid_centers</th>\n",
       "      <td>1.000000</td>\n",
       "      <td>0.988280</td>\n",
       "      <td>0.994106</td>\n",
       "      <td>18345</td>\n",
       "    </tr>\n",
       "    <tr>\n",
       "      <th>other_infrastructure</th>\n",
       "      <td>1.000000</td>\n",
       "      <td>0.955192</td>\n",
       "      <td>0.977083</td>\n",
       "      <td>18345</td>\n",
       "    </tr>\n",
       "    <tr>\n",
       "      <th>weather_related</th>\n",
       "      <td>0.981413</td>\n",
       "      <td>0.725048</td>\n",
       "      <td>0.828065</td>\n",
       "      <td>18345</td>\n",
       "    </tr>\n",
       "    <tr>\n",
       "      <th>floods</th>\n",
       "      <td>1.000000</td>\n",
       "      <td>0.916380</td>\n",
       "      <td>0.956366</td>\n",
       "      <td>18345</td>\n",
       "    </tr>\n",
       "    <tr>\n",
       "      <th>storm</th>\n",
       "      <td>0.996146</td>\n",
       "      <td>0.906405</td>\n",
       "      <td>0.948522</td>\n",
       "      <td>18345</td>\n",
       "    </tr>\n",
       "    <tr>\n",
       "      <th>fire</th>\n",
       "      <td>1.000000</td>\n",
       "      <td>0.989261</td>\n",
       "      <td>0.994602</td>\n",
       "      <td>18345</td>\n",
       "    </tr>\n",
       "    <tr>\n",
       "      <th>earthquake</th>\n",
       "      <td>0.990297</td>\n",
       "      <td>0.908204</td>\n",
       "      <td>0.944706</td>\n",
       "      <td>18345</td>\n",
       "    </tr>\n",
       "    <tr>\n",
       "      <th>cold</th>\n",
       "      <td>1.000000</td>\n",
       "      <td>0.978850</td>\n",
       "      <td>0.989312</td>\n",
       "      <td>18345</td>\n",
       "    </tr>\n",
       "    <tr>\n",
       "      <th>other_weather</th>\n",
       "      <td>1.000000</td>\n",
       "      <td>0.947452</td>\n",
       "      <td>0.973017</td>\n",
       "      <td>18345</td>\n",
       "    </tr>\n",
       "    <tr>\n",
       "      <th>direct_report</th>\n",
       "      <td>0.989108</td>\n",
       "      <td>0.804960</td>\n",
       "      <td>0.886212</td>\n",
       "      <td>18345</td>\n",
       "    </tr>\n",
       "  </tbody>\n",
       "</table>\n",
       "</div>"
      ],
      "text/plain": [
       "                        precision    recall  f1-score  support\n",
       "related                  0.516249  0.538021  0.506490    18345\n",
       "request                  0.974985  0.826765  0.892123    18345\n",
       "offer                    1.000000  0.995312  0.997651    18345\n",
       "aid_related              0.900751  0.574053  0.689944    18345\n",
       "medical_help             1.000000  0.919324  0.957966    18345\n",
       "medical_products         1.000000  0.950068  0.974395    18345\n",
       "search_and_rescue        1.000000  0.971927  0.985764    18345\n",
       "security                 1.000000  0.982775  0.991312    18345\n",
       "military                 1.000000  0.968275  0.983882    18345\n",
       "child_alone              1.000000  1.000000  1.000000    18345\n",
       "water                    1.000000  0.935568  0.966712    18345\n",
       "food                     0.999775  0.888635  0.940873    18345\n",
       "shelter                  1.000000  0.911529  0.953717    18345\n",
       "clothing                 1.000000  0.984355  0.992116    18345\n",
       "money                    1.000000  0.976833  0.988281    18345\n",
       "missing_people           1.000000  0.988008  0.993968    18345\n",
       "refugees                 1.000000  0.966476  0.982952    18345\n",
       "death                    1.000000  0.954374  0.976655    18345\n",
       "other_aid                1.000000  0.867757  0.929197    18345\n",
       "infrastructure_related   1.000000  0.934642  0.966217    18345\n",
       "transport                1.000000  0.952739  0.975798    18345\n",
       "buildings                1.000000  0.948487  0.973563    18345\n",
       "electricity              1.000000  0.978686  0.989228    18345\n",
       "tools                    1.000000  0.993568  0.996773    18345\n",
       "hospitals                1.000000  0.989752  0.994850    18345\n",
       "shops                    1.000000  0.995748  0.997870    18345\n",
       "aid_centers              1.000000  0.988280  0.994106    18345\n",
       "other_infrastructure     1.000000  0.955192  0.977083    18345\n",
       "weather_related          0.981413  0.725048  0.828065    18345\n",
       "floods                   1.000000  0.916380  0.956366    18345\n",
       "storm                    0.996146  0.906405  0.948522    18345\n",
       "fire                     1.000000  0.989261  0.994602    18345\n",
       "earthquake               0.990297  0.908204  0.944706    18345\n",
       "cold                     1.000000  0.978850  0.989312    18345\n",
       "other_weather            1.000000  0.947452  0.973017    18345\n",
       "direct_report            0.989108  0.804960  0.886212    18345"
      ]
     },
     "execution_count": 32,
     "metadata": {},
     "output_type": "execute_result"
    }
   ],
   "source": [
    "quick_eval(cv)"
   ]
  },
  {
   "cell_type": "markdown",
   "metadata": {},
   "source": []
  },
  {
   "cell_type": "code",
   "execution_count": 33,
   "metadata": {
    "ExecuteTime": {
     "end_time": "2020-12-11T11:17:24.450617Z",
     "start_time": "2020-12-11T11:14:54.267783Z"
    }
   },
   "outputs": [],
   "source": [
    "# using trained model to predict on test data \n",
    "Y_predict = cv.predict(X_test)"
   ]
  },
  {
   "cell_type": "code",
   "execution_count": 34,
   "metadata": {
    "ExecuteTime": {
     "end_time": "2020-12-11T11:17:24.454873Z",
     "start_time": "2020-12-11T11:17:24.451970Z"
    }
   },
   "outputs": [
    {
     "data": {
      "text/plain": [
       "(18345, 36)"
      ]
     },
     "execution_count": 34,
     "metadata": {},
     "output_type": "execute_result"
    }
   ],
   "source": [
    "Y_predict.shape"
   ]
  },
  {
   "cell_type": "code",
   "execution_count": 35,
   "metadata": {
    "ExecuteTime": {
     "end_time": "2020-12-11T11:17:24.463503Z",
     "start_time": "2020-12-11T11:17:24.456419Z"
    }
   },
   "outputs": [],
   "source": [
    "from sklearn.metrics import accuracy_score"
   ]
  },
  {
   "cell_type": "code",
   "execution_count": 36,
   "metadata": {
    "ExecuteTime": {
     "end_time": "2020-12-11T11:17:24.473300Z",
     "start_time": "2020-12-11T11:17:24.465154Z"
    }
   },
   "outputs": [
    {
     "data": {
      "text/plain": [
       "0.5380212591986917"
      ]
     },
     "execution_count": 36,
     "metadata": {},
     "output_type": "execute_result"
    }
   ],
   "source": [
    "accuracy_score(Y_predict[:, 0], Y_test[:, 0])"
   ]
  },
  {
   "cell_type": "code",
   "execution_count": 64,
   "metadata": {
    "ExecuteTime": {
     "end_time": "2020-12-11T12:36:18.193648Z",
     "start_time": "2020-12-11T12:36:18.182502Z"
    }
   },
   "outputs": [],
   "source": []
  },
  {
   "cell_type": "code",
   "execution_count": 38,
   "metadata": {
    "ExecuteTime": {
     "end_time": "2020-12-11T11:20:26.617871Z",
     "start_time": "2020-12-11T11:20:26.078562Z"
    }
   },
   "outputs": [],
   "source": [
    "scores = test_report(Y_predict, Y_test)"
   ]
  },
  {
   "cell_type": "code",
   "execution_count": 62,
   "metadata": {
    "ExecuteTime": {
     "end_time": "2020-12-11T12:35:40.925640Z",
     "start_time": "2020-12-11T12:35:40.914308Z"
    }
   },
   "outputs": [
    {
     "data": {
      "text/plain": [
       "{'related': {'precision': 0.5162494890475287,\n",
       "  'recall': 0.5380212591986917,\n",
       "  'f1-score': 0.5064899453819527,\n",
       "  'support': 18345},\n",
       " 'request': {'precision': 0.9749852714174783,\n",
       "  'recall': 0.826764786045244,\n",
       "  'f1-score': 0.8921232516751485,\n",
       "  'support': 18345},\n",
       " 'offer': {'precision': 1.0,\n",
       "  'recall': 0.9953120741346416,\n",
       "  'f1-score': 0.9976505299967217,\n",
       "  'support': 18345},\n",
       " 'aid_related': {'precision': 0.9007508580118859,\n",
       "  'recall': 0.5740528754429,\n",
       "  'f1-score': 0.6899442788241301,\n",
       "  'support': 18345},\n",
       " 'medical_help': {'precision': 1.0,\n",
       "  'recall': 0.9193240665031344,\n",
       "  'f1-score': 0.9579664867935246,\n",
       "  'support': 18345},\n",
       " 'medical_products': {'precision': 1.0,\n",
       "  'recall': 0.9500681384573453,\n",
       "  'f1-score': 0.9743948118745456,\n",
       "  'support': 18345},\n",
       " 'search_and_rescue': {'precision': 1.0,\n",
       "  'recall': 0.9719269555737258,\n",
       "  'f1-score': 0.9857636489288182,\n",
       "  'support': 18345},\n",
       " 'security': {'precision': 1.0,\n",
       "  'recall': 0.9827745979831016,\n",
       "  'f1-score': 0.9913124759443558,\n",
       "  'support': 18345},\n",
       " 'military': {'precision': 1.0,\n",
       "  'recall': 0.9682747342600163,\n",
       "  'f1-score': 0.9838816882685276,\n",
       "  'support': 18345},\n",
       " 'child_alone': {'precision': 1.0,\n",
       "  'recall': 1.0,\n",
       "  'f1-score': 1.0,\n",
       "  'support': 18345},\n",
       " 'water': {'precision': 1.0,\n",
       "  'recall': 0.93556827473426,\n",
       "  'f1-score': 0.9667117269347753,\n",
       "  'support': 18345},\n",
       " 'food': {'precision': 0.9997752918167475,\n",
       "  'recall': 0.8886345053147997,\n",
       "  'f1-score': 0.940873478551019,\n",
       "  'support': 18345},\n",
       " 'shelter': {'precision': 1.0,\n",
       "  'recall': 0.9115290269828291,\n",
       "  'f1-score': 0.9537171699888785,\n",
       "  'support': 18345},\n",
       " 'clothing': {'precision': 1.0,\n",
       "  'recall': 0.9843554101935132,\n",
       "  'f1-score': 0.99211603439277,\n",
       "  'support': 18345},\n",
       " 'money': {'precision': 1.0,\n",
       "  'recall': 0.9768329245025893,\n",
       "  'f1-score': 0.9882807114297534,\n",
       "  'support': 18345},\n",
       " 'missing_people': {'precision': 1.0,\n",
       "  'recall': 0.9880076315072227,\n",
       "  'f1-score': 0.9939676446394297,\n",
       "  'support': 18345},\n",
       " 'refugees': {'precision': 1.0,\n",
       "  'recall': 0.9664758789860998,\n",
       "  'f1-score': 0.9829521829521829,\n",
       "  'support': 18345},\n",
       " 'death': {'precision': 1.0,\n",
       "  'recall': 0.95437448896157,\n",
       "  'f1-score': 0.9766546732491006,\n",
       "  'support': 18345},\n",
       " 'other_aid': {'precision': 1.0,\n",
       "  'recall': 0.8677568819841919,\n",
       "  'f1-score': 0.9291968246556152,\n",
       "  'support': 18345},\n",
       " 'infrastructure_related': {'precision': 1.0,\n",
       "  'recall': 0.9346415917143636,\n",
       "  'f1-score': 0.9662167873545405,\n",
       "  'support': 18345},\n",
       " 'transport': {'precision': 1.0,\n",
       "  'recall': 0.9527391659852821,\n",
       "  'f1-score': 0.9757976718867765,\n",
       "  'support': 18345},\n",
       " 'buildings': {'precision': 1.0,\n",
       "  'recall': 0.9484873262469338,\n",
       "  'f1-score': 0.9735627360469996,\n",
       "  'support': 18345},\n",
       " 'electricity': {'precision': 1.0,\n",
       "  'recall': 0.9786862905423821,\n",
       "  'f1-score': 0.9892283533981652,\n",
       "  'support': 18345},\n",
       " 'tools': {'precision': 1.0,\n",
       "  'recall': 0.9935677296266012,\n",
       "  'f1-score': 0.9967734879142512,\n",
       "  'support': 18345},\n",
       " 'hospitals': {'precision': 1.0,\n",
       "  'recall': 0.989751976015263,\n",
       "  'f1-score': 0.9948495972823407,\n",
       "  'support': 18345},\n",
       " 'shops': {'precision': 1.0,\n",
       "  'recall': 0.9957481602616517,\n",
       "  'f1-score': 0.997869550966896,\n",
       "  'support': 18345},\n",
       " 'aid_centers': {'precision': 1.0,\n",
       "  'recall': 0.988280185336604,\n",
       "  'f1-score': 0.9941055517477725,\n",
       "  'support': 18345},\n",
       " 'other_infrastructure': {'precision': 1.0,\n",
       "  'recall': 0.9551921504497138,\n",
       "  'f1-score': 0.9770826363332218,\n",
       "  'support': 18345},\n",
       " 'weather_related': {'precision': 0.9814134193744543,\n",
       "  'recall': 0.7250476969201417,\n",
       "  'f1-score': 0.8280650383054167,\n",
       "  'support': 18345},\n",
       " 'floods': {'precision': 1.0,\n",
       "  'recall': 0.9163804851458163,\n",
       "  'f1-score': 0.9563659119353738,\n",
       "  'support': 18345},\n",
       " 'storm': {'precision': 0.9961463531598092,\n",
       "  'recall': 0.9064050149904607,\n",
       "  'f1-score': 0.9485215218138647,\n",
       "  'support': 18345},\n",
       " 'fire': {'precision': 1.0,\n",
       "  'recall': 0.9892613791223767,\n",
       "  'f1-score': 0.9946017044364673,\n",
       "  'support': 18345},\n",
       " 'earthquake': {'precision': 0.9902969665616508,\n",
       "  'recall': 0.9082038702643772,\n",
       "  'f1-score': 0.9447063433084224,\n",
       "  'support': 18345},\n",
       " 'cold': {'precision': 1.0,\n",
       "  'recall': 0.9788498228400109,\n",
       "  'f1-score': 0.9893118836427744,\n",
       "  'support': 18345},\n",
       " 'other_weather': {'precision': 1.0,\n",
       "  'recall': 0.9474516216952849,\n",
       "  'f1-score': 0.9730168504730449,\n",
       "  'support': 18345},\n",
       " 'direct_report': {'precision': 0.9891080354553614,\n",
       "  'recall': 0.8049604796947398,\n",
       "  'f1-score': 0.8862122976218684,\n",
       "  'support': 18345}}"
      ]
     },
     "execution_count": 62,
     "metadata": {},
     "output_type": "execute_result"
    }
   ],
   "source": [
    "scores"
   ]
  },
  {
   "cell_type": "code",
   "execution_count": 61,
   "metadata": {
    "ExecuteTime": {
     "end_time": "2020-12-11T12:35:04.378005Z",
     "start_time": "2020-12-11T12:35:04.373339Z"
    }
   },
   "outputs": [],
   "source": [
    "with open('models/evaluate_score.txt', 'w+') as f:\n",
    "    f.write(json.dumps(scores))"
   ]
  },
  {
   "cell_type": "code",
   "execution_count": 164,
   "metadata": {
    "ExecuteTime": {
     "end_time": "2020-12-11T15:05:26.297637Z",
     "start_time": "2020-12-11T15:05:26.286542Z"
    }
   },
   "outputs": [],
   "source": [
    "def visualize_report(score_report, title='Scores on test data'):\n",
    "    '''visualize score report by matplotlib'''\n",
    "    \n",
    "    df_scores = pd.DataFrame.from_dict(data=scores, orient='index')\n",
    "    fig, ax = plt.subplots(figsize=(10,6), facecolor='white')\n",
    "    width = 0.2\n",
    "    score_types = ['precision', 'recall', 'f1-score']\n",
    "    x = np.arange(0, len(df_scores))\n",
    "    for i, label in enumerate(score_types):\n",
    "        ax.bar(x+i*width, df_scores[label], width=width, label=label)\n",
    "    ax.set_xlim(0, len(df_scores))\n",
    "    ax.xaxis.set_major_locator(MultipleLocator(1))\n",
    "    cat_labels = list(df_scores.index)\n",
    "    cat_labels.insert(0,'')\n",
    "    ax.set_title(title)\n",
    "    ax.set_xticklabels(cat_labels, rotation=90)\n",
    "    fig.legend(ncol=3, loc='lower center')\n",
    "    fig.tight_layout()\n",
    "    fig.savefig('models/evaluate_score.png');\n",
    "    return None"
   ]
  },
  {
   "cell_type": "code",
   "execution_count": 165,
   "metadata": {
    "ExecuteTime": {
     "end_time": "2020-12-11T15:05:27.706121Z",
     "start_time": "2020-12-11T15:05:27.156477Z"
    }
   },
   "outputs": [
    {
     "data": {
      "image/png": "[encoded data removed]",
      "text/plain": [
       "<Figure size 720x432 with 1 Axes>"
      ]
     },
     "metadata": {},
     "output_type": "display_data"
    }
   ],
   "source": [
    "visualize_report(scores)"
   ]
  },
  {
   "cell_type": "markdown",
   "metadata": {},
   "source": [
    "### 8. Try improving your model further. Here are a few ideas:\n",
    "* try other machine learning algorithms\n",
    "* add other features besides the TF-IDF"
   ]
  },
  {
   "cell_type": "code",
   "execution_count": null,
   "metadata": {
    "ExecuteTime": {
     "end_time": "2020-12-11T07:31:31.745360Z",
     "start_time": "2020-12-11T07:31:31.714685Z"
    }
   },
   "outputs": [],
   "source": [
    "# we can try another classifer\n",
    "from sklearn.ensemble import RandomForestClassifier"
   ]
  },
  {
   "cell_type": "code",
   "execution_count": null,
   "metadata": {
    "ExecuteTime": {
     "end_time": "2020-12-11T07:31:33.178001Z",
     "start_time": "2020-12-11T07:31:33.172583Z"
    }
   },
   "outputs": [],
   "source": [
    "pipeline_rf = Pipeline([\n",
    "    ('vect', CountVectorizer(tokenizer=tokenize)),\n",
    "    ('tfidf', TfidfTransformer()),\n",
    "    ('clf', MultiOutputClassifier(RandomForestClassifier()))\n",
    "])"
   ]
  },
  {
   "cell_type": "code",
   "execution_count": null,
   "metadata": {
    "ExecuteTime": {
     "end_time": "2020-12-11T07:33:48.238272Z",
     "start_time": "2020-12-11T07:31:49.426786Z"
    }
   },
   "outputs": [],
   "source": [
    "pipeline_rf.fit(X_train, Y_train)"
   ]
  },
  {
   "cell_type": "code",
   "execution_count": null,
   "metadata": {
    "ExecuteTime": {
     "end_time": "2020-12-11T07:47:16.407927Z",
     "start_time": "2020-12-11T07:46:04.547776Z"
    }
   },
   "outputs": [],
   "source": [
    "quick_eval(pipeline_rf)"
   ]
  },
  {
   "cell_type": "code",
   "execution_count": null,
   "metadata": {
    "ExecuteTime": {
     "end_time": "2020-12-11T09:56:24.102824Z",
     "start_time": "2020-12-11T09:56:24.096536Z"
    },
    "scrolled": false
   },
   "outputs": [],
   "source": [
    "# experiment with GridSearchCV and parameters\n",
    "# aborted after running too long\n",
    "\n",
    "# X_train, X_test, Y_train, Y_test = train_test_split(X, Y, test_size=0.7, random_state=1)\n",
    "# pipeline_rf = Pipeline([\n",
    "#     ('vect', CountVectorizer(tokenizer=tokenize)),\n",
    "#     ('tfidf', TfidfTransformer()),\n",
    "#     ('clf', MultiOutputClassifier(RandomForestClassifier()))\n",
    "# ])\n",
    "# parameters = {\n",
    "#         'vect__ngram_range': ((1, 1), (1, 2)),\n",
    "#         'vect__max_df': (0.5, 0.75, 1.0),\n",
    "#         'vect__max_features': (None, 100, 1000, 10000),\n",
    "#         'tfidf__use_idf': (True, False),\n",
    "#         'clf__estimator__n_estimators': [10, 50, 200],\n",
    "#     }\n",
    "# cv = GridSearchCV(pipeline_rf, param_grid=parameters, cv=3, verbose=True, n_jobs=-1)\n",
    "\n",
    "# start = time.time()\n",
    "# cv.fit(X_train, Y_train)\n",
    "# last_for = time.time() - start\n",
    "# print(f'Total training time: {last_for:.1f} seconds')"
   ]
  },
  {
   "cell_type": "markdown",
   "metadata": {},
   "source": [
    "### 9. Export your model as a pickle file"
   ]
  },
  {
   "cell_type": "code",
   "execution_count": 24,
   "metadata": {
    "ExecuteTime": {
     "end_time": "2020-12-11T10:19:03.856362Z",
     "start_time": "2020-12-11T10:19:03.852475Z"
    }
   },
   "outputs": [],
   "source": [
    "import joblib"
   ]
  },
  {
   "cell_type": "code",
   "execution_count": 41,
   "metadata": {
    "ExecuteTime": {
     "end_time": "2020-12-11T11:20:58.156917Z",
     "start_time": "2020-12-11T11:20:58.145343Z"
    }
   },
   "outputs": [
    {
     "data": {
      "text/plain": [
       "['models/knn_clf_v1.pkl']"
      ]
     },
     "execution_count": 41,
     "metadata": {},
     "output_type": "execute_result"
    }
   ],
   "source": [
    "joblib.dump(pipeline_knn, 'models/knn_clf_v1.pkl')"
   ]
  },
  {
   "cell_type": "code",
   "execution_count": 42,
   "metadata": {
    "ExecuteTime": {
     "end_time": "2020-12-11T11:21:03.762706Z",
     "start_time": "2020-12-11T11:21:03.567185Z"
    }
   },
   "outputs": [
    {
     "data": {
      "text/plain": [
       "['models/knn_clf.pkl']"
      ]
     },
     "execution_count": 42,
     "metadata": {},
     "output_type": "execute_result"
    }
   ],
   "source": [
    "joblib.dump(cv, 'models/knn_clf.pkl')"
   ]
  },
  {
   "cell_type": "markdown",
   "metadata": {},
   "source": [
    "### 10. Use this notebook to complete `train.py`\n",
    "Use the template file attached in the Resources folder to write a script that runs the steps above to create a database and export a model based on a new dataset specified by the user."
   ]
  },
  {
   "cell_type": "code",
   "execution_count": null,
   "metadata": {},
   "outputs": [],
   "source": []
  }
 ],
 "metadata": {
  "kernelspec": {
   "display_name": "Python 3",
   "language": "python",
   "name": "python3"
  },
  "language_info": {
   "codemirror_mode": {
    "name": "ipython",
    "version": 3
   },
   "file_extension": ".py",
   "mimetype": "text/x-python",
   "name": "python",
   "nbconvert_exporter": "python",
   "pygments_lexer": "ipython3",
   "version": "3.6.9"
  },
  "toc": {
   "base_numbering": 1,
   "nav_menu": {},
   "number_sections": true,
   "sideBar": true,
   "skip_h1_title": false,
   "title_cell": "Table of Contents",
   "title_sidebar": "Contents",
   "toc_cell": false,
   "toc_position": {},
   "toc_section_display": true,
   "toc_window_display": false
  }
 },
 "nbformat": 4,
 "nbformat_minor": 2
}
